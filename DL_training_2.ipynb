{
  "nbformat": 4,
  "nbformat_minor": 0,
  "metadata": {
    "colab": {
      "provenance": [],
      "authorship_tag": "ABX9TyNx+/VsptQJ87Z7IjTIY3Mg",
      "include_colab_link": true
    },
    "kernelspec": {
      "name": "python3",
      "display_name": "Python 3"
    },
    "language_info": {
      "name": "python"
    }
  },
  "cells": [
    {
      "cell_type": "markdown",
      "metadata": {
        "id": "view-in-github",
        "colab_type": "text"
      },
      "source": [
        "<a href=\"https://colab.research.google.com/github/Jiadia22/2024-deep-learning-training/blob/main/DL_training_2.ipynb\" target=\"_parent\"><img src=\"https://colab.research.google.com/assets/colab-badge.svg\" alt=\"Open In Colab\"/></a>"
      ]
    },
    {
      "cell_type": "markdown",
      "source": [
        "경사 하강법을 이용한 얕은 신경망 학습"
      ],
      "metadata": {
        "id": "pEiHgor8Ov4x"
      }
    },
    {
      "cell_type": "code",
      "source": [
        "import tensorflow as tf\n",
        "import numpy as np"
      ],
      "metadata": {
        "id": "1cZVgLmTO4SN"
      },
      "execution_count": 65,
      "outputs": []
    },
    {
      "cell_type": "code",
      "source": [
        "#하이퍼 파라미터 설정\n",
        "EPOCHS = 1000"
      ],
      "metadata": {
        "id": "Uyzq8F05b5hp"
      },
      "execution_count": 66,
      "outputs": []
    },
    {
      "cell_type": "code",
      "source": [
        "#네트워크 구조 정의\n",
        "#얕은 신경망. 입력계층:2, 은닉계층:128(sigmoid activation),출력계층:10(softmax activation)"
      ],
      "metadata": {
        "id": "OnOsPERyb5pK"
      },
      "execution_count": 67,
      "outputs": []
    },
    {
      "cell_type": "code",
      "source": [
        "class MyModel(tf.keras.Model): #초기화 메서드\n",
        "  def __init__(self):\n",
        "    super(MyModel,self).__init__() #tf.keras.Model클래스의 초기화 메서드 호출.\n",
        "\n",
        "\n",
        "    self.d1 = tf.keras.layers.Dense(128,input_dim=2,activation='sigmoid')\n",
        "    self.d2 = tf.keras.layers.Dense(10,activation='softmax') #input_dim=128\n",
        "\n",
        "  def call(self,x,training=None,mask=None): #호출 메서드\n",
        "    x = self.d1(x)\n",
        "    return self.d2(x)\n",
        "\n",
        "#입력 데이터에 대해 순전파를 수행하여 클래스의 확률 분포를 출력하는 간단한 신경망 모델."
      ],
      "metadata": {
        "id": "ZaJe4jTGb5r4"
      },
      "execution_count": 68,
      "outputs": []
    },
    {
      "cell_type": "code",
      "source": [
        "#학습 루프 정의\n",
        "@tf.function #파이썬 코드를 tensorflow 그래프로 변환하여 성능을 향상시키는 역할\n",
        "def train_step(model,inputs,lables,loss_object,optimizer,train_loss,train_metric):\n",
        "  with tf.GradientTape() as tape:\n",
        "    predictions = model(inputs)\n",
        "    loss = loss_object(labels,predictions)\n",
        "  gradients = tape.gradient(loss,model.trainable_variables) #df(x)/dx, 손실에 대한 모델의 각 변수에 대한 경사를 계산\n",
        "\n",
        "  optimizer.apply_gradients(zip(gradients,model.trainable_variables))\n",
        "  #옵티마이저를 사용하여 모델의 변수들을 업데이트합니다.\n",
        "  train_loss(loss) #현재의 손실을 train_loss에 기록\n",
        "  train_metirc(labels,predictions) #정확도 등을 게산하고 기록합니다"
      ],
      "metadata": {
        "id": "HytqqQ6RFVGF"
      },
      "execution_count": 69,
      "outputs": []
    },
    {
      "cell_type": "code",
      "source": [
        "#데이터셋 생성,전처리\n",
        "np.random.seed(0)\n",
        "\n",
        "pts = list() #2개\n",
        "labels = list() #10개\n",
        "center_pts_list = np.random.uniform(-8.0,8.0,(10,2)) #10개의 중심점 생성\n",
        "for label,center_pts in enumerate(center_pts_list): #각 중심점 주변에 표준 정규 분포를 따르는 100개의 데이터 포인트 생성\n",
        "  for _ in range(100):\n",
        "    pts.append(center_pts + np.random.randn(*center_pts.shape))\n",
        "    labels.append(label)\n",
        "\n",
        "pts = np.stack(pts,axis=0).astype(np.float32) #리스트를 넘파이\n",
        "labels = np.stack(labels,axis=0)\n",
        "\n",
        "train_ds = tf.data.Dataset.from_tensor_slices((pts,labels)).shuffle(1000).batch(32)\n",
        "#튜플형태로 데이터셋 생성, 1000개의 데이터를 섞기, 한 번에 처리할 수 있는 배치크기는 32."
      ],
      "metadata": {
        "id": "pKNkfIOmFVHI"
      },
      "execution_count": 73,
      "outputs": []
    },
    {
      "cell_type": "code",
      "source": [
        "#모델생성\n",
        "model = MyModel()"
      ],
      "metadata": {
        "id": "GfAmCXp-FVIU"
      },
      "execution_count": 74,
      "outputs": []
    },
    {
      "cell_type": "code",
      "source": [
        "#손실 함수 및 최적화 알고리즘 설정\n",
        "#(crossentropy, adam optimizer)\n",
        "loss_object = tf.keras.losses.SparseCategoricalCrossentropy() #크로스엔트로피를 최소화 해야함\n",
        "optimizer = tf.keras.optimizers.Adam() #모델의 가중치 업데이트"
      ],
      "metadata": {
        "id": "wIDx8H45FVJ2"
      },
      "execution_count": 75,
      "outputs": []
    },
    {
      "cell_type": "code",
      "source": [
        "#평가 지표 설정 (accuracy)\n",
        "train_loss = tf.keras.metrics.Mean(name='train_loss') #손실 값을 평균화 하여 기록\n",
        "train_accuracy = tf.keras.metrics.SparseCategoricalCrossentropy(name='train_accuracy') #정확도 평"
      ],
      "metadata": {
        "id": "nBP-ee3CFVK0"
      },
      "execution_count": 76,
      "outputs": []
    },
    {
      "cell_type": "code",
      "source": [
        "#학습루프\n",
        "for epoch in range(EPOCHS):\n",
        "  for x,label in train_ds: #32\n",
        "    train_step(model,x,label,loss_object,optimizer,train_loss,train_accuracy)\n",
        "\n",
        "  template = 'Epoch {}, Loss: {}, Accuracy: {}'\n",
        "  print(template.format(epoch+1,\n",
        "                        train_loss.result(), #현재까지의 평균 손실\n",
        "                        train_accuracy.result()*100)) #현재까지의 평균 정확도"
      ],
      "metadata": {
        "colab": {
          "base_uri": "https://localhost:8080/",
          "height": 842
        },
        "id": "pVqBBO2tFVL7",
        "outputId": "f4131048-a0fb-442b-ee40-4d9fe70760ea"
      },
      "execution_count": 78,
      "outputs": [
        {
          "output_type": "stream",
          "name": "stdout",
          "text": [
            "Epoch 1, Loss: 0.0, Accuracy: 0.0\n",
            "Epoch 2, Loss: 0.0, Accuracy: 0.0\n",
            "Epoch 3, Loss: 0.0, Accuracy: 0.0\n",
            "Epoch 4, Loss: 0.0, Accuracy: 0.0\n",
            "Epoch 5, Loss: 0.0, Accuracy: 0.0\n",
            "Epoch 6, Loss: 0.0, Accuracy: 0.0\n",
            "Epoch 7, Loss: 0.0, Accuracy: 0.0\n",
            "Epoch 8, Loss: 0.0, Accuracy: 0.0\n",
            "Epoch 9, Loss: 0.0, Accuracy: 0.0\n",
            "Epoch 10, Loss: 0.0, Accuracy: 0.0\n",
            "Epoch 11, Loss: 0.0, Accuracy: 0.0\n",
            "Epoch 12, Loss: 0.0, Accuracy: 0.0\n",
            "Epoch 13, Loss: 0.0, Accuracy: 0.0\n",
            "Epoch 14, Loss: 0.0, Accuracy: 0.0\n",
            "Epoch 15, Loss: 0.0, Accuracy: 0.0\n",
            "Epoch 16, Loss: 0.0, Accuracy: 0.0\n",
            "Epoch 17, Loss: 0.0, Accuracy: 0.0\n",
            "Epoch 18, Loss: 0.0, Accuracy: 0.0\n",
            "Epoch 19, Loss: 0.0, Accuracy: 0.0\n",
            "Epoch 20, Loss: 0.0, Accuracy: 0.0\n",
            "Epoch 21, Loss: 0.0, Accuracy: 0.0\n",
            "Epoch 22, Loss: 0.0, Accuracy: 0.0\n",
            "Epoch 23, Loss: 0.0, Accuracy: 0.0\n"
          ]
        },
        {
          "output_type": "error",
          "ename": "KeyboardInterrupt",
          "evalue": "",
          "traceback": [
            "\u001b[0;31m---------------------------------------------------------------------------\u001b[0m",
            "\u001b[0;31mKeyboardInterrupt\u001b[0m                         Traceback (most recent call last)",
            "\u001b[0;32m<ipython-input-78-da7e7c3a8500>\u001b[0m in \u001b[0;36m<cell line: 2>\u001b[0;34m()\u001b[0m\n\u001b[1;32m      2\u001b[0m \u001b[0;32mfor\u001b[0m \u001b[0mepoch\u001b[0m \u001b[0;32min\u001b[0m \u001b[0mrange\u001b[0m\u001b[0;34m(\u001b[0m\u001b[0mEPOCHS\u001b[0m\u001b[0;34m)\u001b[0m\u001b[0;34m:\u001b[0m\u001b[0;34m\u001b[0m\u001b[0;34m\u001b[0m\u001b[0m\n\u001b[1;32m      3\u001b[0m   \u001b[0;32mfor\u001b[0m \u001b[0mx\u001b[0m\u001b[0;34m,\u001b[0m\u001b[0mlabel\u001b[0m \u001b[0;32min\u001b[0m \u001b[0mtrain_ds\u001b[0m\u001b[0;34m:\u001b[0m\u001b[0;34m\u001b[0m\u001b[0;34m\u001b[0m\u001b[0m\n\u001b[0;32m----> 4\u001b[0;31m     \u001b[0mtrain_step\u001b[0m\u001b[0;34m(\u001b[0m\u001b[0mmodel\u001b[0m\u001b[0;34m,\u001b[0m\u001b[0mx\u001b[0m\u001b[0;34m,\u001b[0m\u001b[0mlabel\u001b[0m\u001b[0;34m,\u001b[0m\u001b[0mloss_object\u001b[0m\u001b[0;34m,\u001b[0m\u001b[0moptimizer\u001b[0m\u001b[0;34m,\u001b[0m\u001b[0mtrain_loss\u001b[0m\u001b[0;34m,\u001b[0m\u001b[0mtrain_accuracy\u001b[0m\u001b[0;34m)\u001b[0m\u001b[0;34m\u001b[0m\u001b[0;34m\u001b[0m\u001b[0m\n\u001b[0m\u001b[1;32m      5\u001b[0m \u001b[0;34m\u001b[0m\u001b[0m\n\u001b[1;32m      6\u001b[0m   \u001b[0mtemplate\u001b[0m \u001b[0;34m=\u001b[0m \u001b[0;34m'Epoch {}, Loss: {}, Accuracy: {}'\u001b[0m\u001b[0;34m\u001b[0m\u001b[0;34m\u001b[0m\u001b[0m\n",
            "\u001b[0;32m/usr/local/lib/python3.10/dist-packages/tensorflow/python/util/traceback_utils.py\u001b[0m in \u001b[0;36merror_handler\u001b[0;34m(*args, **kwargs)\u001b[0m\n\u001b[1;32m    148\u001b[0m     \u001b[0mfiltered_tb\u001b[0m \u001b[0;34m=\u001b[0m \u001b[0;32mNone\u001b[0m\u001b[0;34m\u001b[0m\u001b[0;34m\u001b[0m\u001b[0m\n\u001b[1;32m    149\u001b[0m     \u001b[0;32mtry\u001b[0m\u001b[0;34m:\u001b[0m\u001b[0;34m\u001b[0m\u001b[0;34m\u001b[0m\u001b[0m\n\u001b[0;32m--> 150\u001b[0;31m       \u001b[0;32mreturn\u001b[0m \u001b[0mfn\u001b[0m\u001b[0;34m(\u001b[0m\u001b[0;34m*\u001b[0m\u001b[0margs\u001b[0m\u001b[0;34m,\u001b[0m \u001b[0;34m**\u001b[0m\u001b[0mkwargs\u001b[0m\u001b[0;34m)\u001b[0m\u001b[0;34m\u001b[0m\u001b[0;34m\u001b[0m\u001b[0m\n\u001b[0m\u001b[1;32m    151\u001b[0m     \u001b[0;32mexcept\u001b[0m \u001b[0mException\u001b[0m \u001b[0;32mas\u001b[0m \u001b[0me\u001b[0m\u001b[0;34m:\u001b[0m\u001b[0;34m\u001b[0m\u001b[0;34m\u001b[0m\u001b[0m\n\u001b[1;32m    152\u001b[0m       \u001b[0mfiltered_tb\u001b[0m \u001b[0;34m=\u001b[0m \u001b[0m_process_traceback_frames\u001b[0m\u001b[0;34m(\u001b[0m\u001b[0me\u001b[0m\u001b[0;34m.\u001b[0m\u001b[0m__traceback__\u001b[0m\u001b[0;34m)\u001b[0m\u001b[0;34m\u001b[0m\u001b[0;34m\u001b[0m\u001b[0m\n",
            "\u001b[0;32m/usr/local/lib/python3.10/dist-packages/tensorflow/python/eager/polymorphic_function/polymorphic_function.py\u001b[0m in \u001b[0;36m__call__\u001b[0;34m(self, *args, **kwds)\u001b[0m\n\u001b[1;32m    830\u001b[0m \u001b[0;34m\u001b[0m\u001b[0m\n\u001b[1;32m    831\u001b[0m       \u001b[0;32mwith\u001b[0m \u001b[0mOptionalXlaContext\u001b[0m\u001b[0;34m(\u001b[0m\u001b[0mself\u001b[0m\u001b[0;34m.\u001b[0m\u001b[0m_jit_compile\u001b[0m\u001b[0;34m)\u001b[0m\u001b[0;34m:\u001b[0m\u001b[0;34m\u001b[0m\u001b[0;34m\u001b[0m\u001b[0m\n\u001b[0;32m--> 832\u001b[0;31m         \u001b[0mresult\u001b[0m \u001b[0;34m=\u001b[0m \u001b[0mself\u001b[0m\u001b[0;34m.\u001b[0m\u001b[0m_call\u001b[0m\u001b[0;34m(\u001b[0m\u001b[0;34m*\u001b[0m\u001b[0margs\u001b[0m\u001b[0;34m,\u001b[0m \u001b[0;34m**\u001b[0m\u001b[0mkwds\u001b[0m\u001b[0;34m)\u001b[0m\u001b[0;34m\u001b[0m\u001b[0;34m\u001b[0m\u001b[0m\n\u001b[0m\u001b[1;32m    833\u001b[0m \u001b[0;34m\u001b[0m\u001b[0m\n\u001b[1;32m    834\u001b[0m       \u001b[0mnew_tracing_count\u001b[0m \u001b[0;34m=\u001b[0m \u001b[0mself\u001b[0m\u001b[0;34m.\u001b[0m\u001b[0mexperimental_get_tracing_count\u001b[0m\u001b[0;34m(\u001b[0m\u001b[0;34m)\u001b[0m\u001b[0;34m\u001b[0m\u001b[0;34m\u001b[0m\u001b[0m\n",
            "\u001b[0;32m/usr/local/lib/python3.10/dist-packages/tensorflow/python/eager/polymorphic_function/polymorphic_function.py\u001b[0m in \u001b[0;36m_call\u001b[0;34m(self, *args, **kwds)\u001b[0m\n\u001b[1;32m    866\u001b[0m       \u001b[0;31m# In this case we have created variables on the first call, so we run the\u001b[0m\u001b[0;34m\u001b[0m\u001b[0;34m\u001b[0m\u001b[0m\n\u001b[1;32m    867\u001b[0m       \u001b[0;31m# defunned version which is guaranteed to never create variables.\u001b[0m\u001b[0;34m\u001b[0m\u001b[0;34m\u001b[0m\u001b[0m\n\u001b[0;32m--> 868\u001b[0;31m       return tracing_compilation.call_function(\n\u001b[0m\u001b[1;32m    869\u001b[0m           \u001b[0margs\u001b[0m\u001b[0;34m,\u001b[0m \u001b[0mkwds\u001b[0m\u001b[0;34m,\u001b[0m \u001b[0mself\u001b[0m\u001b[0;34m.\u001b[0m\u001b[0m_no_variable_creation_config\u001b[0m\u001b[0;34m\u001b[0m\u001b[0;34m\u001b[0m\u001b[0m\n\u001b[1;32m    870\u001b[0m       )\n",
            "\u001b[0;32m/usr/local/lib/python3.10/dist-packages/tensorflow/python/eager/polymorphic_function/tracing_compilation.py\u001b[0m in \u001b[0;36mcall_function\u001b[0;34m(args, kwargs, tracing_options)\u001b[0m\n\u001b[1;32m    137\u001b[0m   \u001b[0mbound_args\u001b[0m \u001b[0;34m=\u001b[0m \u001b[0mfunction\u001b[0m\u001b[0;34m.\u001b[0m\u001b[0mfunction_type\u001b[0m\u001b[0;34m.\u001b[0m\u001b[0mbind\u001b[0m\u001b[0;34m(\u001b[0m\u001b[0;34m*\u001b[0m\u001b[0margs\u001b[0m\u001b[0;34m,\u001b[0m \u001b[0;34m**\u001b[0m\u001b[0mkwargs\u001b[0m\u001b[0;34m)\u001b[0m\u001b[0;34m\u001b[0m\u001b[0;34m\u001b[0m\u001b[0m\n\u001b[1;32m    138\u001b[0m   \u001b[0mflat_inputs\u001b[0m \u001b[0;34m=\u001b[0m \u001b[0mfunction\u001b[0m\u001b[0;34m.\u001b[0m\u001b[0mfunction_type\u001b[0m\u001b[0;34m.\u001b[0m\u001b[0munpack_inputs\u001b[0m\u001b[0;34m(\u001b[0m\u001b[0mbound_args\u001b[0m\u001b[0;34m)\u001b[0m\u001b[0;34m\u001b[0m\u001b[0;34m\u001b[0m\u001b[0m\n\u001b[0;32m--> 139\u001b[0;31m   return function._call_flat(  # pylint: disable=protected-access\n\u001b[0m\u001b[1;32m    140\u001b[0m       \u001b[0mflat_inputs\u001b[0m\u001b[0;34m,\u001b[0m \u001b[0mcaptured_inputs\u001b[0m\u001b[0;34m=\u001b[0m\u001b[0mfunction\u001b[0m\u001b[0;34m.\u001b[0m\u001b[0mcaptured_inputs\u001b[0m\u001b[0;34m\u001b[0m\u001b[0;34m\u001b[0m\u001b[0m\n\u001b[1;32m    141\u001b[0m   )\n",
            "\u001b[0;32m/usr/local/lib/python3.10/dist-packages/tensorflow/python/eager/polymorphic_function/concrete_function.py\u001b[0m in \u001b[0;36m_call_flat\u001b[0;34m(self, tensor_inputs, captured_inputs)\u001b[0m\n\u001b[1;32m   1321\u001b[0m         and executing_eagerly):\n\u001b[1;32m   1322\u001b[0m       \u001b[0;31m# No tape is watching; skip to running the function.\u001b[0m\u001b[0;34m\u001b[0m\u001b[0;34m\u001b[0m\u001b[0m\n\u001b[0;32m-> 1323\u001b[0;31m       \u001b[0;32mreturn\u001b[0m \u001b[0mself\u001b[0m\u001b[0;34m.\u001b[0m\u001b[0m_inference_function\u001b[0m\u001b[0;34m.\u001b[0m\u001b[0mcall_preflattened\u001b[0m\u001b[0;34m(\u001b[0m\u001b[0margs\u001b[0m\u001b[0;34m)\u001b[0m\u001b[0;34m\u001b[0m\u001b[0;34m\u001b[0m\u001b[0m\n\u001b[0m\u001b[1;32m   1324\u001b[0m     forward_backward = self._select_forward_and_backward_functions(\n\u001b[1;32m   1325\u001b[0m         \u001b[0margs\u001b[0m\u001b[0;34m,\u001b[0m\u001b[0;34m\u001b[0m\u001b[0;34m\u001b[0m\u001b[0m\n",
            "\u001b[0;32m/usr/local/lib/python3.10/dist-packages/tensorflow/python/eager/polymorphic_function/atomic_function.py\u001b[0m in \u001b[0;36mcall_preflattened\u001b[0;34m(self, args)\u001b[0m\n\u001b[1;32m    214\u001b[0m   \u001b[0;32mdef\u001b[0m \u001b[0mcall_preflattened\u001b[0m\u001b[0;34m(\u001b[0m\u001b[0mself\u001b[0m\u001b[0;34m,\u001b[0m \u001b[0margs\u001b[0m\u001b[0;34m:\u001b[0m \u001b[0mSequence\u001b[0m\u001b[0;34m[\u001b[0m\u001b[0mcore\u001b[0m\u001b[0;34m.\u001b[0m\u001b[0mTensor\u001b[0m\u001b[0;34m]\u001b[0m\u001b[0;34m)\u001b[0m \u001b[0;34m->\u001b[0m \u001b[0mAny\u001b[0m\u001b[0;34m:\u001b[0m\u001b[0;34m\u001b[0m\u001b[0;34m\u001b[0m\u001b[0m\n\u001b[1;32m    215\u001b[0m     \u001b[0;34m\"\"\"Calls with flattened tensor inputs and returns the structured output.\"\"\"\u001b[0m\u001b[0;34m\u001b[0m\u001b[0;34m\u001b[0m\u001b[0m\n\u001b[0;32m--> 216\u001b[0;31m     \u001b[0mflat_outputs\u001b[0m \u001b[0;34m=\u001b[0m \u001b[0mself\u001b[0m\u001b[0;34m.\u001b[0m\u001b[0mcall_flat\u001b[0m\u001b[0;34m(\u001b[0m\u001b[0;34m*\u001b[0m\u001b[0margs\u001b[0m\u001b[0;34m)\u001b[0m\u001b[0;34m\u001b[0m\u001b[0;34m\u001b[0m\u001b[0m\n\u001b[0m\u001b[1;32m    217\u001b[0m     \u001b[0;32mreturn\u001b[0m \u001b[0mself\u001b[0m\u001b[0;34m.\u001b[0m\u001b[0mfunction_type\u001b[0m\u001b[0;34m.\u001b[0m\u001b[0mpack_output\u001b[0m\u001b[0;34m(\u001b[0m\u001b[0mflat_outputs\u001b[0m\u001b[0;34m)\u001b[0m\u001b[0;34m\u001b[0m\u001b[0;34m\u001b[0m\u001b[0m\n\u001b[1;32m    218\u001b[0m \u001b[0;34m\u001b[0m\u001b[0m\n",
            "\u001b[0;32m/usr/local/lib/python3.10/dist-packages/tensorflow/python/eager/polymorphic_function/atomic_function.py\u001b[0m in \u001b[0;36mcall_flat\u001b[0;34m(self, *args)\u001b[0m\n\u001b[1;32m    249\u001b[0m         \u001b[0;32mwith\u001b[0m \u001b[0mrecord\u001b[0m\u001b[0;34m.\u001b[0m\u001b[0mstop_recording\u001b[0m\u001b[0;34m(\u001b[0m\u001b[0;34m)\u001b[0m\u001b[0;34m:\u001b[0m\u001b[0;34m\u001b[0m\u001b[0;34m\u001b[0m\u001b[0m\n\u001b[1;32m    250\u001b[0m           \u001b[0;32mif\u001b[0m \u001b[0mself\u001b[0m\u001b[0;34m.\u001b[0m\u001b[0m_bound_context\u001b[0m\u001b[0;34m.\u001b[0m\u001b[0mexecuting_eagerly\u001b[0m\u001b[0;34m(\u001b[0m\u001b[0;34m)\u001b[0m\u001b[0;34m:\u001b[0m\u001b[0;34m\u001b[0m\u001b[0;34m\u001b[0m\u001b[0m\n\u001b[0;32m--> 251\u001b[0;31m             outputs = self._bound_context.call_function(\n\u001b[0m\u001b[1;32m    252\u001b[0m                 \u001b[0mself\u001b[0m\u001b[0;34m.\u001b[0m\u001b[0mname\u001b[0m\u001b[0;34m,\u001b[0m\u001b[0;34m\u001b[0m\u001b[0;34m\u001b[0m\u001b[0m\n\u001b[1;32m    253\u001b[0m                 \u001b[0mlist\u001b[0m\u001b[0;34m(\u001b[0m\u001b[0margs\u001b[0m\u001b[0;34m)\u001b[0m\u001b[0;34m,\u001b[0m\u001b[0;34m\u001b[0m\u001b[0;34m\u001b[0m\u001b[0m\n",
            "\u001b[0;32m/usr/local/lib/python3.10/dist-packages/tensorflow/python/eager/context.py\u001b[0m in \u001b[0;36mcall_function\u001b[0;34m(self, name, tensor_inputs, num_outputs)\u001b[0m\n\u001b[1;32m   1484\u001b[0m     \u001b[0mcancellation_context\u001b[0m \u001b[0;34m=\u001b[0m \u001b[0mcancellation\u001b[0m\u001b[0;34m.\u001b[0m\u001b[0mcontext\u001b[0m\u001b[0;34m(\u001b[0m\u001b[0;34m)\u001b[0m\u001b[0;34m\u001b[0m\u001b[0;34m\u001b[0m\u001b[0m\n\u001b[1;32m   1485\u001b[0m     \u001b[0;32mif\u001b[0m \u001b[0mcancellation_context\u001b[0m \u001b[0;32mis\u001b[0m \u001b[0;32mNone\u001b[0m\u001b[0;34m:\u001b[0m\u001b[0;34m\u001b[0m\u001b[0;34m\u001b[0m\u001b[0m\n\u001b[0;32m-> 1486\u001b[0;31m       outputs = execute.execute(\n\u001b[0m\u001b[1;32m   1487\u001b[0m           \u001b[0mname\u001b[0m\u001b[0;34m.\u001b[0m\u001b[0mdecode\u001b[0m\u001b[0;34m(\u001b[0m\u001b[0;34m\"utf-8\"\u001b[0m\u001b[0;34m)\u001b[0m\u001b[0;34m,\u001b[0m\u001b[0;34m\u001b[0m\u001b[0;34m\u001b[0m\u001b[0m\n\u001b[1;32m   1488\u001b[0m           \u001b[0mnum_outputs\u001b[0m\u001b[0;34m=\u001b[0m\u001b[0mnum_outputs\u001b[0m\u001b[0;34m,\u001b[0m\u001b[0;34m\u001b[0m\u001b[0;34m\u001b[0m\u001b[0m\n",
            "\u001b[0;32m/usr/local/lib/python3.10/dist-packages/tensorflow/python/eager/execute.py\u001b[0m in \u001b[0;36mquick_execute\u001b[0;34m(op_name, num_outputs, inputs, attrs, ctx, name)\u001b[0m\n\u001b[1;32m     51\u001b[0m   \u001b[0;32mtry\u001b[0m\u001b[0;34m:\u001b[0m\u001b[0;34m\u001b[0m\u001b[0;34m\u001b[0m\u001b[0m\n\u001b[1;32m     52\u001b[0m     \u001b[0mctx\u001b[0m\u001b[0;34m.\u001b[0m\u001b[0mensure_initialized\u001b[0m\u001b[0;34m(\u001b[0m\u001b[0;34m)\u001b[0m\u001b[0;34m\u001b[0m\u001b[0;34m\u001b[0m\u001b[0m\n\u001b[0;32m---> 53\u001b[0;31m     tensors = pywrap_tfe.TFE_Py_Execute(ctx._handle, device_name, op_name,\n\u001b[0m\u001b[1;32m     54\u001b[0m                                         inputs, attrs, num_outputs)\n\u001b[1;32m     55\u001b[0m   \u001b[0;32mexcept\u001b[0m \u001b[0mcore\u001b[0m\u001b[0;34m.\u001b[0m\u001b[0m_NotOkStatusException\u001b[0m \u001b[0;32mas\u001b[0m \u001b[0me\u001b[0m\u001b[0;34m:\u001b[0m\u001b[0;34m\u001b[0m\u001b[0;34m\u001b[0m\u001b[0m\n",
            "\u001b[0;31mKeyboardInterrupt\u001b[0m: "
          ]
        }
      ]
    },
    {
      "cell_type": "code",
      "source": [
        "#데이터셋 및 학습 파라미터 저장\n",
        "np.savez_compressed('ch2_dataset.npz',inputs=pts,labels=labels) #압축하여 저장\n",
        "\n",
        "w_h,b_h = medel.d1.get_weights() #히든레이어에 weight와 bias\n",
        "w_o,b_o = medel.d2.get_weights() #아웃풋레이어에 weight와 bias\n",
        "w_h = np.transpose(w_h)\n",
        "w_o = np.transpose(w_o)\n",
        "np.savez_compressed('ch2_dataset.npz',\n",
        "                    w_h=w_h,\n",
        "                    b_h=b_h,\n",
        "                    w_o=w_o,\n",
        "                    b_o=b_o)"
      ],
      "metadata": {
        "id": "DC28DK89FVNN"
      },
      "execution_count": null,
      "outputs": []
    },
    {
      "cell_type": "markdown",
      "source": [
        "수치 미분을 이용한 심층 신경망 학습"
      ],
      "metadata": {
        "id": "WN85WZHKO7-K"
      }
    },
    {
      "cell_type": "code",
      "source": [
        "import time\n",
        "import numpy as np"
      ],
      "metadata": {
        "id": "Lrrh5PRmFVOf"
      },
      "execution_count": 6,
      "outputs": []
    },
    {
      "cell_type": "code",
      "source": [
        "#유틸리티 함수\n",
        "epsilon = 0.0001\n",
        "\n",
        "def _t(x):\n",
        "  return np.transpose(x)\n",
        "\n",
        "def _m(A,B):\n",
        "  return np.matmul(A,B)\n",
        "\n",
        "def sigmoid(x):\n",
        "  return 1 / (1+np.exp(-x))\n",
        "\n",
        "def mean_squared_error(h,y):\n",
        "  return 1/2*np.mean(np.square(h-y))"
      ],
      "metadata": {
        "id": "kfVQvLukFVPc"
      },
      "execution_count": 7,
      "outputs": []
    },
    {
      "cell_type": "code",
      "source": [
        "#뉴련구현\n",
        "class Neuron:\n",
        "  def __init__(self,W,b,a):\n",
        "    #Model Parameter\n",
        "    self.W = W\n",
        "    self.b = b\n",
        "    self.a = a\n",
        "\n",
        "    #Gradients\n",
        "    self.dw = np.zeros_like(self.W)\n",
        "    self.db = np.zeros_like(self.b)\n",
        "\n",
        "  def __call__(self,x):\n",
        "    return self.a(_m(_t(self.W),x)+self.b) #activation((W^T)x+b)\n",
        "    #~~"
      ],
      "metadata": {
        "id": "F4AkEf7RFVS9"
      },
      "execution_count": 8,
      "outputs": []
    },
    {
      "cell_type": "markdown",
      "source": [
        "역전파 학습법을 이용한 심층 신경망 학습"
      ],
      "metadata": {
        "id": "9YV0TF0hbnXx"
      }
    },
    {
      "cell_type": "code",
      "source": [
        "import time\n",
        "import numpy as np"
      ],
      "metadata": {
        "id": "w-UqnX1zbq31"
      },
      "execution_count": 41,
      "outputs": []
    },
    {
      "cell_type": "code",
      "source": [
        "#유틸리티 함수\n",
        "epsilon = 0.0001\n",
        "\n",
        "def _t(x):\n",
        "  return np.transpose(x)\n",
        "\n",
        "def _m(A,B):\n",
        "  return np.matmul(A,B)"
      ],
      "metadata": {
        "id": "iihj_tTsbmW9"
      },
      "execution_count": 42,
      "outputs": []
    },
    {
      "cell_type": "code",
      "source": [
        "#Sigmoid 구현\n",
        "class Sigmoid:\n",
        "  def __init__(self):\n",
        "    self.last_o = 1\n",
        "\n",
        "  def __call__(self,x):\n",
        "    self.last_o = 1/(1.0 + np.exp(-x))\n",
        "    return self.last_o\n",
        "\n",
        "  def grad(self): #sigmoid(x)(1-sigmoid(x))\n",
        "    return self.last_o *(1-self.last_o)"
      ],
      "metadata": {
        "id": "x1nwzwyXbmZa"
      },
      "execution_count": 43,
      "outputs": []
    },
    {
      "cell_type": "code",
      "source": [
        "#Mean Squared Error 구현\n",
        "class MeanSquaredError:\n",
        "  def __init__(self):\n",
        "    #gradient\n",
        "    self.dh = 1\n",
        "    self.last_diff = 1\n",
        "\n",
        "  def __call__(self,h,y): #1/2 *mean((h-y)^2)\n",
        "    self.last_diff = h-y\n",
        "    return 1/2 * np.mean(np.square(h-y))\n",
        "\n",
        "  def grad(self): #h-y\n",
        "    return self.last_diff\n"
      ],
      "metadata": {
        "id": "r42cppcdda7U"
      },
      "execution_count": 44,
      "outputs": []
    },
    {
      "cell_type": "code",
      "source": [
        "#뉴련 구현(fully-connected layer 구현)\n",
        "class Neuron:\n",
        "  def __init__(self,W,b,a_obj):\n",
        "    #Model parameters\n",
        "    self.W = W\n",
        "    self.b = b\n",
        "    self.a = a_obj()\n",
        "\n",
        "    #gradient\n",
        "    self.dW = np.zeros_like(self.W)\n",
        "    self.db = np.zeros_like(self.b)\n",
        "    self.dh = np.zeros_like(_t(self.W))\n",
        "\n",
        "    self.last_x = np.zeros((self.W.shape[0])) #W grad를 위해서 마지막 x저장\n",
        "    self.last_h = np.zeros((self.W.shape[1]))\n",
        "\n",
        "  def __call__(self,x):\n",
        "    self.last_x = x\n",
        "    self.last_h = _m(_t(self.W),x) + self.b\n",
        "    return self.a(self.last_h)\n",
        "\n",
        "  def grad(self): #dy/dh = W\n",
        "    return self.W * self.a.grad()\n",
        "\n",
        "  def grad_W(self,dh):\n",
        "    grad = np.ones_like(self.W)\n",
        "    grad_a = self.a.grad()\n",
        "    for j in range(grad.shape[1]): #dy/dw = x\n",
        "      grad[:,j] = dh[j] *grad_a[j] * self.last_x\n",
        "    return grad\n",
        "\n",
        "  def grad_b(self,dh): #dy/dh = 1\n",
        "    return dh*self.a.grad()"
      ],
      "metadata": {
        "id": "zKX4EHKvbmb8"
      },
      "execution_count": 45,
      "outputs": []
    },
    {
      "cell_type": "code",
      "source": [
        "#심층신경망 구현\n",
        "class DNN:\n",
        "  def __init__(self,hidden_depth,num_neuron,input,output,activation=Sigmoid):\n",
        "    def init_var(i,o):\n",
        "      return np.random.normal(0.0,0.01,(i,o)),np.zeros((o,))\n",
        "\n",
        "    self.sequence = list()\n",
        "    #First hidden layer\n",
        "    W,b = init_var(input,num_neuron)\n",
        "    self.sequence.append(Neuron(W,b,activation))\n",
        "\n",
        "    #Hidden Layers\n",
        "    for index in range(hidden_depth):\n",
        "      W,b = init_var(num_neuron,num_neuron)\n",
        "      self.sequence.append(Neuron(W,b,activation))\n",
        "\n",
        "    #Output layer\n",
        "    W,b = init_var(num_neuron,output)\n",
        "    self.sequence.append(Neuron(W,b,activation))\n",
        "\n",
        "  def __call__(self,x):\n",
        "    for layer in self.sequence:\n",
        "      x = layer(x)\n",
        "    return x\n",
        "\n",
        "  def calc_gradient(self,loss_obj):\n",
        "    loss_obj.dh = loss_obj.grad()\n",
        "    self.sequence.append(loss_obj)\n",
        "    #back-prop loop\n",
        "    for i in range(len(self.sequence)-1,0,-1):\n",
        "        l1 = self.sequence[i]\n",
        "        l0= self.sequence[i-1]\n",
        "\n",
        "\n",
        "        l0.dh = _m(l0.grad(),l1.dh)\n",
        "        l0.dW = l0.grad_W(l1.dh)\n",
        "        l0.db = l0.grad_b(l1.dh)\n",
        "\n",
        "    self.sequence.remove(loss_obj)"
      ],
      "metadata": {
        "id": "C2E_YYh9bmel"
      },
      "execution_count": 46,
      "outputs": []
    },
    {
      "cell_type": "code",
      "source": [
        "#경사하강 학습법\n",
        "def gradient_descent(network,x,y,loss_obj,alpha=0.01):\n",
        "  loss = loss_obj(network(x),y) #Forward inference\n",
        "  network.calc_gradient(loss_obj) #Back-propagation\n",
        "  for layer in network.sequence:\n",
        "    layer.W += -alpha * layer.dW\n",
        "    layer.b += -alpha * layer.db\n",
        "  return loss"
      ],
      "metadata": {
        "id": "05UNW9NmbmhV"
      },
      "execution_count": 47,
      "outputs": []
    },
    {
      "cell_type": "code",
      "source": [
        "#동작테스트\n",
        "x = np.random.normal(0.0,1.0,(10,))\n",
        "y = np.random.normal(0.0,1.0,(2,))\n",
        "\n",
        "t = time.time()\n",
        "dnn = DNN(hidden_depth=5,num_neuron=32,input=10,output=2,activation=Sigmoid)\n",
        "loss_obj = MeanSquaredError()\n",
        "for epoch in range(100):\n",
        "  loss = gradient_descent(dnn,x,y,loss_obj,alpha=0.01)\n",
        "  print(\"Epoch {}: Test loss {}\".format(epoch,loss))\n",
        "print('{} seconds elapsed.'.format(time.time()-t))"
      ],
      "metadata": {
        "colab": {
          "base_uri": "https://localhost:8080/"
        },
        "id": "VOFT4QfactqK",
        "outputId": "de60992d-4751-4bf3-dd0b-a0d279fa1390"
      },
      "execution_count": 49,
      "outputs": [
        {
          "output_type": "stream",
          "name": "stdout",
          "text": [
            "Epoch 0: Test loss 0.36131266164945375\n",
            "Epoch 1: Test loss 0.357288056485878\n",
            "Epoch 2: Test loss 0.35330858289968736\n",
            "Epoch 3: Test loss 0.3493755003403499\n",
            "Epoch 4: Test loss 0.3454899609569206\n",
            "Epoch 5: Test loss 0.341653009699399\n",
            "Epoch 6: Test loss 0.3378655849874046\n",
            "Epoch 7: Test loss 0.33412851990994746\n",
            "Epoch 8: Test loss 0.33044254391656663\n",
            "Epoch 9: Test loss 0.32680828495743447\n",
            "Epoch 10: Test loss 0.3232262720281667\n",
            "Epoch 11: Test loss 0.31969693807400124\n",
            "Epoch 12: Test loss 0.3162206232076507\n",
            "Epoch 13: Test loss 0.312797578195447\n",
            "Epoch 14: Test loss 0.30942796816728924\n",
            "Epoch 15: Test loss 0.30611187650732896\n",
            "Epoch 16: Test loss 0.30284930888417705\n",
            "Epoch 17: Test loss 0.299640197381633\n",
            "Epoch 18: Test loss 0.2964844046934355\n",
            "Epoch 19: Test loss 0.29338172834824483\n",
            "Epoch 20: Test loss 0.290331904933918\n",
            "Epoch 21: Test loss 0.28733461429307616\n",
            "Epoch 22: Test loss 0.2843894836649205\n",
            "Epoch 23: Test loss 0.2814960917511931\n",
            "Epoch 24: Test loss 0.2786539726870468\n",
            "Epoch 25: Test loss 0.27586261990036465\n",
            "Epoch 26: Test loss 0.27312148984571105\n",
            "Epoch 27: Test loss 0.270430005601587\n",
            "Epoch 28: Test loss 0.2677875603219948\n",
            "Epoch 29: Test loss 0.26519352053546236\n",
            "Epoch 30: Test loss 0.2626472292866437\n",
            "Epoch 31: Test loss 0.2601480091173944\n",
            "Epoch 32: Test loss 0.25769516488581407\n",
            "Epoch 33: Test loss 0.2552879864231629\n",
            "Epoch 34: Test loss 0.2529257510298004\n",
            "Epoch 35: Test loss 0.25060772581236834\n",
            "Epoch 36: Test loss 0.24833316986535808\n",
            "Epoch 37: Test loss 0.24610133630097478\n",
            "Epoch 38: Test loss 0.2439114741318477\n",
            "Epoch 39: Test loss 0.24176283001164994\n",
            "Epoch 40: Test loss 0.23965464983909232\n",
            "Epoch 41: Test loss 0.23758618023105843\n",
            "Epoch 42: Test loss 0.23555666987085683\n",
            "Epoch 43: Test loss 0.23356537073770126\n",
            "Epoch 44: Test loss 0.23161153922359037\n",
            "Epoch 45: Test loss 0.22969443714376203\n",
            "Epoch 46: Test loss 0.2278133326468472\n",
            "Epoch 47: Test loss 0.22596750103075902\n",
            "Epoch 48: Test loss 0.2241562254702197\n",
            "Epoch 49: Test loss 0.22237879766167373\n",
            "Epoch 50: Test loss 0.22063451839115025\n",
            "Epoch 51: Test loss 0.2189226980304397\n",
            "Epoch 52: Test loss 0.21724265696673137\n",
            "Epoch 53: Test loss 0.2155937259706374\n",
            "Epoch 54: Test loss 0.21397524650729446\n",
            "Epoch 55: Test loss 0.2123865709950014\n",
            "Epoch 56: Test loss 0.21082706301561532\n",
            "Epoch 57: Test loss 0.20929609748069433\n",
            "Epoch 58: Test loss 0.20779306075714404\n",
            "Epoch 59: Test loss 0.2063173507559\n",
            "Epoch 60: Test loss 0.20486837698695778\n",
            "Epoch 61: Test loss 0.20344556058384727\n",
            "Epoch 62: Test loss 0.20204833430044677\n",
            "Epoch 63: Test loss 0.20067614248283006\n",
            "Epoch 64: Test loss 0.19932844101865557\n",
            "Epoch 65: Test loss 0.19800469726642334\n",
            "Epoch 66: Test loss 0.19670438996675818\n",
            "Epoch 67: Test loss 0.1954270091377124\n",
            "Epoch 68: Test loss 0.19417205595593157\n",
            "Epoch 69: Test loss 0.19293904262538042\n",
            "Epoch 70: Test loss 0.1917274922351921\n",
            "Epoch 71: Test loss 0.19053693860807636\n",
            "Epoch 72: Test loss 0.18936692614060308\n",
            "Epoch 73: Test loss 0.18821700963656637\n",
            "Epoch 74: Test loss 0.18708675413453119\n",
            "Epoch 75: Test loss 0.18597573473056647\n",
            "Epoch 76: Test loss 0.18488353639708086\n",
            "Epoch 77: Test loss 0.183809753798591\n",
            "Epoch 78: Test loss 0.18275399110517707\n",
            "Epoch 79: Test loss 0.1817158618043078\n",
            "Epoch 80: Test loss 0.18069498851165022\n",
            "Epoch 81: Test loss 0.17969100278141958\n",
            "Epoch 82: Test loss 0.17870354491676624\n",
            "Epoch 83: Test loss 0.17773226378064746\n",
            "Epoch 84: Test loss 0.17677681660758066\n",
            "Epoch 85: Test loss 0.17583686881663324\n",
            "Epoch 86: Test loss 0.17491209382596265\n",
            "Epoch 87: Test loss 0.17400217286918368\n",
            "Epoch 88: Test loss 0.17310679481380642\n",
            "Epoch 89: Test loss 0.17222565598195586\n",
            "Epoch 90: Test loss 0.1713584599735587\n",
            "Epoch 91: Test loss 0.1705049174921544\n",
            "Epoch 92: Test loss 0.16966474617346516\n",
            "Epoch 93: Test loss 0.16883767041683884\n",
            "Epoch 94: Test loss 0.16802342121965871\n",
            "Epoch 95: Test loss 0.16722173601479626\n",
            "Epoch 96: Test loss 0.16643235851116775\n",
            "Epoch 97: Test loss 0.1656550385374418\n",
            "Epoch 98: Test loss 0.1648895318889301\n",
            "Epoch 99: Test loss 0.16413560017768442\n",
            "0.17090415954589844 seconds elapsed.\n"
          ]
        }
      ]
    },
    {
      "cell_type": "markdown",
      "source": [
        "텐서플로우/케라스 이론 및 실습"
      ],
      "metadata": {
        "id": "FYldF4IOvY20"
      }
    },
    {
      "cell_type": "code",
      "source": [
        "import tensorflow as tf\n",
        "from tensorflow import keras"
      ],
      "metadata": {
        "id": "FBBVmpSJctr7"
      },
      "execution_count": 1,
      "outputs": []
    },
    {
      "cell_type": "code",
      "source": [
        "import numpy as np\n",
        "import matplotlib.pyplot as plt"
      ],
      "metadata": {
        "id": "3EXoiFSmctt-"
      },
      "execution_count": 2,
      "outputs": []
    },
    {
      "cell_type": "code",
      "source": [
        "mnist = keras.datasets.mnist\n",
        "(x_train,y_train),(x_test,y_test) = mnist.load_data()\n",
        "x_train,x_test = x_train/225.0,x_test/225.0"
      ],
      "metadata": {
        "colab": {
          "base_uri": "https://localhost:8080/"
        },
        "id": "uPXKdhtJctxY",
        "outputId": "26f97687-3ec3-4c7e-d7e8-fda6506de6fe"
      },
      "execution_count": 3,
      "outputs": [
        {
          "output_type": "stream",
          "name": "stdout",
          "text": [
            "Downloading data from https://storage.googleapis.com/tensorflow/tf-keras-datasets/mnist.npz\n",
            "11490434/11490434 [==============================] - 0s 0us/step\n"
          ]
        }
      ]
    },
    {
      "cell_type": "code",
      "source": [
        "#등등 실습 간단히 진행"
      ],
      "metadata": {
        "id": "gGdoDCSMwRr4"
      },
      "execution_count": 4,
      "outputs": []
    },
    {
      "cell_type": "code",
      "source": [
        "#tensor=>tensorflow의 기본 data type\n",
        "hello = tf.constant([3,3],dtype = tf.float32)\n",
        "print(hello)"
      ],
      "metadata": {
        "colab": {
          "base_uri": "https://localhost:8080/"
        },
        "id": "ZpTRiVhTxH3w",
        "outputId": "90c3288f-74cd-4f94-8444-287d7701565b"
      },
      "execution_count": 6,
      "outputs": [
        {
          "output_type": "stream",
          "name": "stdout",
          "text": [
            "tf.Tensor([3. 3.], shape=(2,), dtype=float32)\n"
          ]
        }
      ]
    },
    {
      "cell_type": "code",
      "source": [
        "x = tf.constant([[1.0,2.0],[3.0,4.0]])\n",
        "print(x)\n",
        "print(type(x))"
      ],
      "metadata": {
        "colab": {
          "base_uri": "https://localhost:8080/"
        },
        "id": "nLccrYLaxIUQ",
        "outputId": "700a51e1-4b37-49e2-ecc4-6abb42b35424"
      },
      "execution_count": 7,
      "outputs": [
        {
          "output_type": "stream",
          "name": "stdout",
          "text": [
            "tf.Tensor(\n",
            "[[1. 2.]\n",
            " [3. 4.]], shape=(2, 2), dtype=float32)\n",
            "<class 'tensorflow.python.framework.ops.EagerTensor'>\n"
          ]
        }
      ]
    },
    {
      "cell_type": "code",
      "source": [
        "#np.array나 list도 tensor로 바꿀 수 있다.\n",
        "x_np = np.array([[1.0,2.0],\n",
        "                 [3.0,4.0]])\n",
        "x_np = tf.convert_to_tensor(x_np)\n",
        "print(type(x_np))"
      ],
      "metadata": {
        "colab": {
          "base_uri": "https://localhost:8080/"
        },
        "id": "8XsN3JerxIWK",
        "outputId": "8c1a9b84-91f7-4051-e978-85dd78ae1269"
      },
      "execution_count": 8,
      "outputs": [
        {
          "output_type": "stream",
          "name": "stdout",
          "text": [
            "<class 'tensorflow.python.framework.ops.EagerTensor'>\n"
          ]
        }
      ]
    },
    {
      "cell_type": "code",
      "source": [
        "#tensor 를 np.array로 바꾸기\n",
        "x.numpy()"
      ],
      "metadata": {
        "colab": {
          "base_uri": "https://localhost:8080/"
        },
        "id": "hUtvkDtUxIXq",
        "outputId": "a348dd34-f3d9-43e9-f8cd-c4626ea3da93"
      },
      "execution_count": 9,
      "outputs": [
        {
          "output_type": "execute_result",
          "data": {
            "text/plain": [
              "array([[1., 2.],\n",
              "       [3., 4.]], dtype=float32)"
            ]
          },
          "metadata": {},
          "execution_count": 9
        }
      ]
    },
    {
      "cell_type": "code",
      "source": [
        "a = tf.ones((2,3))\n",
        "b = tf.zeros((2,3))\n",
        "c = tf.fill((2,3),2) #넘파이는 full\n",
        "print(a)\n",
        "print(b)\n",
        "print(c)\n",
        "#like는 타입까지 가져옴\n",
        "d = tf.zeros_like(c)\n",
        "e = tf.ones_like(c)\n",
        "print(d)\n",
        "print(e)"
      ],
      "metadata": {
        "colab": {
          "base_uri": "https://localhost:8080/"
        },
        "id": "AlkngWsUxIZB",
        "outputId": "0806aa29-5d6a-4a16-e186-1db4a205c5a2"
      },
      "execution_count": 12,
      "outputs": [
        {
          "output_type": "stream",
          "name": "stdout",
          "text": [
            "tf.Tensor(\n",
            "[[1. 1. 1.]\n",
            " [1. 1. 1.]], shape=(2, 3), dtype=float32)\n",
            "tf.Tensor(\n",
            "[[0. 0. 0.]\n",
            " [0. 0. 0.]], shape=(2, 3), dtype=float32)\n",
            "tf.Tensor(\n",
            "[[2 2 2]\n",
            " [2 2 2]], shape=(2, 3), dtype=int32)\n",
            "tf.Tensor(\n",
            "[[0 0 0]\n",
            " [0 0 0]], shape=(2, 3), dtype=int32)\n",
            "tf.Tensor(\n",
            "[[1 1 1]\n",
            " [1 1 1]], shape=(2, 3), dtype=int32)\n"
          ]
        }
      ]
    },
    {
      "cell_type": "code",
      "source": [
        "f = tf.eye(3)\n",
        "print(f)"
      ],
      "metadata": {
        "colab": {
          "base_uri": "https://localhost:8080/"
        },
        "id": "jb1cw9fGxIeX",
        "outputId": "1f1f5823-6ab4-4b9d-9bce-e91691aacc53"
      },
      "execution_count": 13,
      "outputs": [
        {
          "output_type": "stream",
          "name": "stdout",
          "text": [
            "tf.Tensor(\n",
            "[[1. 0. 0.]\n",
            " [0. 1. 0.]\n",
            " [0. 0. 1.]], shape=(3, 3), dtype=float32)\n"
          ]
        }
      ]
    },
    {
      "cell_type": "code",
      "source": [
        "g = tf.range(10) #numpy에서는 arange\n",
        "print(g)"
      ],
      "metadata": {
        "colab": {
          "base_uri": "https://localhost:8080/"
        },
        "id": "lNep2S_8xIfn",
        "outputId": "d907df84-8413-4feb-f35e-5acfbeb0ccc7"
      },
      "execution_count": 14,
      "outputs": [
        {
          "output_type": "stream",
          "name": "stdout",
          "text": [
            "tf.Tensor([0 1 2 3 4 5 6 7 8 9], shape=(10,), dtype=int32)\n"
          ]
        }
      ]
    },
    {
      "cell_type": "code",
      "source": [
        "h = tf.random.uniform((2,2)) #np.rand 0-1사이\n",
        "i = tf.random.normal((2,2)) #np.randn\n",
        "print(h)\n",
        "print(i)"
      ],
      "metadata": {
        "colab": {
          "base_uri": "https://localhost:8080/"
        },
        "id": "FQjh8MrOxIg8",
        "outputId": "fb481f1c-4031-4a24-d26e-ac1efa07190d"
      },
      "execution_count": 15,
      "outputs": [
        {
          "output_type": "stream",
          "name": "stdout",
          "text": [
            "tf.Tensor(\n",
            "[[1.5556812e-04 8.5463905e-01]\n",
            " [8.6481702e-01 6.3538933e-01]], shape=(2, 2), dtype=float32)\n",
            "tf.Tensor(\n",
            "[[ 0.14080335  0.20531832]\n",
            " [-0.49298513  0.2175819 ]], shape=(2, 2), dtype=float32)\n"
          ]
        }
      ]
    },
    {
      "cell_type": "code",
      "source": [
        "#tensor의 속성 변\n",
        "tensor = tf.random.normal((3,4))\n",
        "tensor = tf.reshape(tensor,(4,3))\n",
        "tensor = tf.cast(tensor,tf.int32)\n",
        "\n",
        "print (tensor.shape)\n",
        "print(tensor.dtype)"
      ],
      "metadata": {
        "colab": {
          "base_uri": "https://localhost:8080/"
        },
        "id": "d-vbl5r3xIkK",
        "outputId": "7652eec3-2299-42c6-ddbd-847231eae0ba"
      },
      "execution_count": 18,
      "outputs": [
        {
          "output_type": "stream",
          "name": "stdout",
          "text": [
            "(4, 3)\n",
            "<dtype: 'int32'>\n"
          ]
        }
      ]
    },
    {
      "cell_type": "code",
      "source": [
        "#variable => 튜플같이 값 변경 불가\n",
        "tensor = tf.ones((3,4))\n",
        "v = tf.Variable(tensor)\n",
        "print(v)\n",
        "\n",
        "v[0,0].assign(2)\n",
        "print(v)\n",
        "\n",
        "#뺄셈\n",
        "add = tf.ones(shape = (3,4))\n",
        "v.assign_sub(add)"
      ],
      "metadata": {
        "colab": {
          "base_uri": "https://localhost:8080/"
        },
        "id": "4LToIEEq1Hd_",
        "outputId": "6a433d57-f702-45ae-a1bc-8c8412efc29b"
      },
      "execution_count": 23,
      "outputs": [
        {
          "output_type": "stream",
          "name": "stdout",
          "text": [
            "<tf.Variable 'Variable:0' shape=(3, 4) dtype=float32, numpy=\n",
            "array([[1., 1., 1., 1.],\n",
            "       [1., 1., 1., 1.],\n",
            "       [1., 1., 1., 1.]], dtype=float32)>\n",
            "<tf.Variable 'Variable:0' shape=(3, 4) dtype=float32, numpy=\n",
            "array([[2., 1., 1., 1.],\n",
            "       [1., 1., 1., 1.],\n",
            "       [1., 1., 1., 1.]], dtype=float32)>\n"
          ]
        },
        {
          "output_type": "execute_result",
          "data": {
            "text/plain": [
              "<tf.Variable 'UnreadVariable' shape=(3, 4) dtype=float32, numpy=\n",
              "array([[1., 0., 0., 0.],\n",
              "       [0., 0., 0., 0.],\n",
              "       [0., 0., 0., 0.]], dtype=float32)>"
            ]
          },
          "metadata": {},
          "execution_count": 23
        }
      ]
    },
    {
      "cell_type": "code",
      "source": [
        "#indexing과 slicing\n",
        "a = tf.range(1,13)\n",
        "a = tf.reshape(a,(3,4))\n",
        "print(a)"
      ],
      "metadata": {
        "colab": {
          "base_uri": "https://localhost:8080/"
        },
        "id": "_9V96nCS12fe",
        "outputId": "f1ed388c-86d8-4702-9a38-bb001819ef00"
      },
      "execution_count": 24,
      "outputs": [
        {
          "output_type": "stream",
          "name": "stdout",
          "text": [
            "tf.Tensor(\n",
            "[[ 1  2  3  4]\n",
            " [ 5  6  7  8]\n",
            " [ 9 10 11 12]], shape=(3, 4), dtype=int32)\n"
          ]
        }
      ]
    },
    {
      "cell_type": "code",
      "source": [
        "#indexing\n",
        "print(a[1])\n",
        "print(a[0,-1])"
      ],
      "metadata": {
        "colab": {
          "base_uri": "https://localhost:8080/"
        },
        "id": "SaWaiPG72Neu",
        "outputId": "432cbd36-d78f-4b27-9c08-253142bd7ae1"
      },
      "execution_count": 25,
      "outputs": [
        {
          "output_type": "stream",
          "name": "stdout",
          "text": [
            "tf.Tensor([5 6 7 8], shape=(4,), dtype=int32)\n",
            "tf.Tensor(4, shape=(), dtype=int32)\n"
          ]
        }
      ]
    },
    {
      "cell_type": "code",
      "source": [
        "#slicing\n",
        "print(a[1:-1])\n",
        "print(a[:2,2:])"
      ],
      "metadata": {
        "colab": {
          "base_uri": "https://localhost:8080/"
        },
        "id": "S0AUKXD72NgV",
        "outputId": "21b76090-fc4b-4b02-8956-64be147cf776"
      },
      "execution_count": 26,
      "outputs": [
        {
          "output_type": "stream",
          "name": "stdout",
          "text": [
            "tf.Tensor([[5 6 7 8]], shape=(1, 4), dtype=int32)\n",
            "tf.Tensor(\n",
            "[[3 4]\n",
            " [7 8]], shape=(2, 2), dtype=int32)\n"
          ]
        }
      ]
    },
    {
      "cell_type": "code",
      "source": [
        "a = tf.range(16)\n",
        "a = tf.reshape(a,(2,2,-1))\n",
        "print(a)\n",
        "\n",
        "b = tf.transpose(a,(2,0,1))\n",
        "print(b)"
      ],
      "metadata": {
        "colab": {
          "base_uri": "https://localhost:8080/"
        },
        "id": "7uXM3CpT2Nhr",
        "outputId": "c7dba8f9-d9f2-4a9f-9c2f-3503c388969f"
      },
      "execution_count": 34,
      "outputs": [
        {
          "output_type": "stream",
          "name": "stdout",
          "text": [
            "tf.Tensor(\n",
            "[[[ 0  1  2  3]\n",
            "  [ 4  5  6  7]]\n",
            "\n",
            " [[ 8  9 10 11]\n",
            "  [12 13 14 15]]], shape=(2, 2, 4), dtype=int32)\n",
            "tf.Tensor(\n",
            "[[[ 0  4]\n",
            "  [ 8 12]]\n",
            "\n",
            " [[ 1  5]\n",
            "  [ 9 13]]\n",
            "\n",
            " [[ 2  6]\n",
            "  [10 14]]\n",
            "\n",
            " [[ 3  7]\n",
            "  [11 15]]], shape=(4, 2, 2), dtype=int32)\n"
          ]
        }
      ]
    },
    {
      "cell_type": "code",
      "source": [
        "#축에 따라 덧셈\n",
        "z = tf.range(1,11)\n",
        "z = tf.reshape(z,(2,5))\n",
        "print(z)\n",
        "print(tf.reduce_sum(z,axis=0))"
      ],
      "metadata": {
        "colab": {
          "base_uri": "https://localhost:8080/"
        },
        "id": "-93JUyK334H-",
        "outputId": "0f618a1e-28ca-441a-c78f-0a5d80bd4cfa"
      },
      "execution_count": 37,
      "outputs": [
        {
          "output_type": "stream",
          "name": "stdout",
          "text": [
            "tf.Tensor(\n",
            "[[ 1  2  3  4  5]\n",
            " [ 6  7  8  9 10]], shape=(2, 5), dtype=int32)\n",
            "tf.Tensor([ 7  9 11 13 15], shape=(5,), dtype=int32)\n"
          ]
        }
      ]
    },
    {
      "cell_type": "code",
      "source": [
        "c = tf.concat([z,z],axis=0)\n",
        "print(c)"
      ],
      "metadata": {
        "colab": {
          "base_uri": "https://localhost:8080/"
        },
        "id": "eqQ6ftFMCuQU",
        "outputId": "9e303141-f6be-41c7-9296-c92408bcc51b"
      },
      "execution_count": 38,
      "outputs": [
        {
          "output_type": "stream",
          "name": "stdout",
          "text": [
            "tf.Tensor(\n",
            "[[ 1  2  3  4  5]\n",
            " [ 6  7  8  9 10]\n",
            " [ 1  2  3  4  5]\n",
            " [ 6  7  8  9 10]], shape=(4, 5), dtype=int32)\n"
          ]
        }
      ]
    },
    {
      "cell_type": "code",
      "source": [
        "#dataset\n",
        "mnist = keras.datasets.fashion_mnist\n",
        "class_names = ['T-shirt/top','Trouser','Pellover','Dress','Coat','Sandal','Shirt','Sneaker','Bag','Ankle boot']\n",
        "(train_images,train_labels),(test_images,test_labels) = mnist.load_data()\n",
        "unique,counts = np.unique(train_labels,axis=-1,return_counts=True)"
      ],
      "metadata": {
        "id": "9RPU4Za-DCTw"
      },
      "execution_count": 52,
      "outputs": []
    },
    {
      "cell_type": "code",
      "source": [
        "plt.figure(figsize=(8,8))\n",
        "for i in range(9):\n",
        "  plt.subplot(3,3,i+1)\n",
        "  plt.xticks([])\n",
        "  plt.yticks([])\n",
        "  plt.grid(False)\n",
        "  plt.imshow(train_images[1],cmap='gray')\n",
        "  plt.title(class_names[train_labels[i]])\n",
        "plt.show()"
      ],
      "metadata": {
        "colab": {
          "base_uri": "https://localhost:8080/",
          "height": 675
        },
        "id": "etptBLjyDVZY",
        "outputId": "c232d114-59de-4296-c221-4290e1526383"
      },
      "execution_count": 53,
      "outputs": [
        {
          "output_type": "display_data",
          "data": {
            "text/plain": [
              "<Figure size 800x800 with 9 Axes>"
            ],
            "image/png": "[encoded data removed]"
          },
          "metadata": {}
        }
      ]
    },
    {
      "cell_type": "code",
      "source": [
        "#data 전처리\n",
        "\n",
        "#image를 0-1사이 값으로 만들기 위해서 255로 나누어줌\n",
        "train_images = train_images.astype(np.float32)/255.\n",
        "test_images = test_images.astype(np.float32)/255.\n",
        "\n",
        "#one-hot encoding\n",
        "train_labels = keras.utils.to_categorical(train_labels,10)\n",
        "test_labels = keras.utils.to_categorical(test_labels,10)"
      ],
      "metadata": {
        "id": "Le8WRNUtEFSo"
      },
      "execution_count": 55,
      "outputs": []
    },
    {
      "cell_type": "code",
      "source": [
        "train_dataset = tf.data.Dataset.from_tensor_slices((train_images,train_labels)).shuffle(buffer_size=1000000).batch(64)\n",
        "test_dataset = tf.data.Dataset.from_tensor_slices((train_images,train_labels)).batch(64)"
      ],
      "metadata": {
        "id": "4W5DZIZXLH_P"
      },
      "execution_count": 56,
      "outputs": []
    },
    {
      "cell_type": "code",
      "source": [
        "imgs,lbs = next(iter(train_dataset))\n",
        "\n",
        "img = imgs[0]\n",
        "lb = lbs[0]\n",
        "plt.imshow(img,cmap='gray')\n",
        "plt.show()\n",
        "print(f\"Label: {lb}\")"
      ],
      "metadata": {
        "colab": {
          "base_uri": "https://localhost:8080/",
          "height": 612
        },
        "id": "auyhPlr5LIHf",
        "outputId": "2e8e6b7c-0ff4-451f-cb2f-27484438209c"
      },
      "execution_count": 58,
      "outputs": [
        {
          "output_type": "display_data",
          "data": {
            "text/plain": [
              "<Figure size 640x480 with 1 Axes>"
            ],
            "image/png": "[encoded data removed]"
          },
          "metadata": {}
        },
        {
          "output_type": "stream",
          "name": "stdout",
          "text": [
            "Label: [[1. 0. 0. 0. 0. 0. 0. 0. 0. 0.]\n",
            " [1. 0. 0. 0. 0. 0. 0. 0. 0. 0.]\n",
            " [1. 0. 0. 0. 0. 0. 0. 0. 0. 0.]\n",
            " [1. 0. 0. 0. 0. 0. 0. 0. 0. 0.]\n",
            " [1. 0. 0. 0. 0. 0. 0. 0. 0. 0.]\n",
            " [1. 0. 0. 0. 0. 0. 0. 0. 0. 0.]\n",
            " [1. 0. 0. 0. 0. 0. 0. 0. 0. 0.]\n",
            " [0. 1. 0. 0. 0. 0. 0. 0. 0. 0.]\n",
            " [1. 0. 0. 0. 0. 0. 0. 0. 0. 0.]\n",
            " [1. 0. 0. 0. 0. 0. 0. 0. 0. 0.]]\n"
          ]
        }
      ]
    },
    {
      "cell_type": "markdown",
      "source": [
        "model"
      ],
      "metadata": {
        "id": "mufckTisQAq_"
      }
    },
    {
      "cell_type": "code",
      "source": [
        "#keras Sequential API\n",
        "def create_seq_model():\n",
        "  model = keras.Sequential()\n",
        "  model.add(keras.layers.Flatten(input_shape=(28,28)))\n",
        "  model.add(keras.layers.Dense(128,activation='relu'))\n",
        "  model.add(keras.layers.Dropout(0.2))\n",
        "  model.add(keras.layers.Dense(10,activation='softmax'))\n",
        "  return model"
      ],
      "metadata": {
        "id": "COjqTOr2LIKZ"
      },
      "execution_count": 60,
      "outputs": []
    },
    {
      "cell_type": "code",
      "source": [
        "#keras Functional API\n",
        "def create_func_model():\n",
        "  inputs = keras.Input(shape=(28,28))\n",
        "  flatten = keras.layers.Flatten(inputs)\n",
        "  dense = keras.laters.Dense(128,activation='relu')(flatten)\n",
        "  drop = keras.layers.Dropout(0.2)(dense)\n",
        "  outputs = keras.layers.Dense(10,activation='softmax')(drop)\n",
        "  model = keras.Model(inputs=inputs,outputs=outputs)"
      ],
      "metadata": {
        "id": "iiwtJ6r4RFlM"
      },
      "execution_count": 62,
      "outputs": []
    },
    {
      "cell_type": "code",
      "source": [
        "#model class subclassing\n",
        "class SubClassModel(keras.Model):\n",
        "  def __init__(self):\n",
        "    self.flatten = keras.layers.Flatten(input_shape=(28,28))\n",
        "    self.dense1 = keras.layers.Dense(128,activation='relu')\n",
        "    self.drop = keras.layers.Dropout(0.2)\n",
        "    self.dense2 = keras.layers.Dense(10,activation='softmax')\n",
        "  def call(self,x,training=False):\n",
        "    x=self.flatten(x)\n",
        "    x = self.dense1(x)\n",
        "    x = self.drop(x)\n",
        "    return self.dense2(x)\n"
      ],
      "metadata": {
        "id": "Dk5AuXq9SPa8"
      },
      "execution_count": 67,
      "outputs": []
    },
    {
      "cell_type": "code",
      "source": [],
      "metadata": {
        "id": "2LABpdcXUjWL"
      },
      "execution_count": null,
      "outputs": []
    },
    {
      "cell_type": "code",
      "source": [],
      "metadata": {
        "id": "G8TnGW3vVdeR"
      },
      "execution_count": null,
      "outputs": []
    },
    {
      "cell_type": "code",
      "source": [],
      "metadata": {
        "id": "eKXa87sjVdf6"
      },
      "execution_count": null,
      "outputs": []
    },
    {
      "cell_type": "code",
      "source": [],
      "metadata": {
        "id": "BciPYEC0Vdhb"
      },
      "execution_count": null,
      "outputs": []
    },
    {
      "cell_type": "code",
      "source": [],
      "metadata": {
        "id": "giINn1ujVdis"
      },
      "execution_count": null,
      "outputs": []
    },
    {
      "cell_type": "code",
      "source": [],
      "metadata": {
        "id": "DaMw5oqDVdkL"
      },
      "execution_count": null,
      "outputs": []
    },
    {
      "cell_type": "code",
      "source": [],
      "metadata": {
        "id": "DdjIB019Vdnu"
      },
      "execution_count": null,
      "outputs": []
    }
  ]
}